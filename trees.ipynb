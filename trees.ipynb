{
  "nbformat": 4,
  "nbformat_minor": 0,
  "metadata": {
    "colab": {
      "name": "trees.ipynb",
      "provenance": [],
      "collapsed_sections": [],
      "authorship_tag": "ABX9TyMImlPl5bgUEIyVFFsnzHus",
      "include_colab_link": true
    },
    "kernelspec": {
      "name": "python3",
      "display_name": "Python 3"
    }
  },
  "cells": [
    {
      "cell_type": "markdown",
      "metadata": {
        "id": "view-in-github",
        "colab_type": "text"
      },
      "source": [
        "<a href=\"https://colab.research.google.com/github/LeonardoBonanno/SummerResearch2020/blob/master/trees.ipynb\" target=\"_parent\"><img src=\"https://colab.research.google.com/assets/colab-badge.svg\" alt=\"Open In Colab\"/></a>"
      ]
    },
    {
      "cell_type": "markdown",
      "metadata": {
        "id": "u2Fs_OiPQYse",
        "colab_type": "text"
      },
      "source": [
        "We use this code to generate alternating permutations, alternating sequences of reals, and stochastic tridiagonal matrices."
      ]
    },
    {
      "cell_type": "code",
      "metadata": {
        "id": "wEYYuqqkQeAR",
        "colab_type": "code",
        "colab": {}
      },
      "source": [
        "def update(x):\n",
        "    return (2 / math.pi) * math.asin(random.random() * math.cos(math.pi * x/2))\n",
        "\n",
        "def calculateAcceptanceProb(x_n, x_0):\n",
        "    alpha = math.cos(math.pi * x_n/ 2) / math.cos(math.pi * x_0/ 2)\n",
        "    return 1 / (alpha + 1 / alpha)\n",
        "\n",
        "def generateSuperdiagonal(n, acceptanceProb = None):\n",
        "    X = [0] * n\n",
        "    forward = True\n",
        "    while True:\n",
        "        X[0] = random.random()\n",
        "        for i in range(1, n):\n",
        "            X[i] = update(X[i-1])\n",
        "        acceptProb = calculateAcceptanceProb(X[n-1], X[0])\n",
        "        p = random.random()\n",
        "        if acceptanceProb != None:\n",
        "            acceptanceProb.append(2 * acceptProb)\n",
        "        if p < 2 * acceptProb:\n",
        "            forward = p < acceptProb\n",
        "            break\n",
        "    return X, forward\n",
        "\n",
        "def convertToAlternatingReals(X, forward, n):\n",
        "    Y = [0] * n\n",
        "    increment, start = (1, 0) if forward else (-1, n - 1)\n",
        "    for i in range(n):\n",
        "        if i % 2 == 0:\n",
        "            Y[i]= X[start + increment * i]\n",
        "        else:\n",
        "            Y[i] = 1 - X[start + increment * i]\n",
        "    return Y\n",
        "\n",
        "def convertToPerm(Y, n):\n",
        "    sigma_prime = list(np.argsort(Y))\n",
        "    sigma = [0] * n\n",
        "    for i in range(n):\n",
        "        sigma[i] = sigma_prime.index(i) + 1\n",
        "    return sigma\n",
        "\n",
        "def generateUniformPerm(n, acceptanceProb = None):\n",
        "    X, forward = generateSuperdiagonal(n, acceptanceProb)\n",
        "    Y = convertToAlternatingReals(X, forward, n)\n",
        "    return convertToPerm(Y, n)"
      ],
      "execution_count": null,
      "outputs": []
    },
    {
      "cell_type": "markdown",
      "metadata": {
        "id": "OSvCEU2AQuKw",
        "colab_type": "text"
      },
      "source": [
        "First we generate a (uniformly random) stochastic tridiagonal matrix superdiagonal (of length n) like the below. Note how sequential terms always sum to 1. The generateSuperdiagonal function uses a slightly modified version of the algorithm presented in Marchal's paper."
      ]
    },
    {
      "cell_type": "code",
      "metadata": {
        "id": "-yfk2Z86QxTX",
        "colab_type": "code",
        "colab": {
          "base_uri": "https://localhost:8080/",
          "height": 54
        },
        "outputId": "f7e5f849-2275-4fc9-89ff-76c749cfeb17"
      },
      "source": [
        "n = 10\n",
        "X, forward = generateSuperdiagonal(n)\n",
        "print(X)\n"
      ],
      "execution_count": null,
      "outputs": [
        {
          "output_type": "stream",
          "text": [
            "[0.9164303224574469, 0.005891409571226082, 0.709983356869203, 0.06484152862228948, 0.5540709329812937, 0.2992616553605782, 0.339268723900239, 0.25024120285601453, 0.6694943147828405, 0.12384989420472682]\n"
          ],
          "name": "stdout"
        }
      ]
    },
    {
      "cell_type": "markdown",
      "metadata": {
        "id": "vLNti_55RsXU",
        "colab_type": "text"
      },
      "source": [
        "We then apply the bijection from the Diaconis paper to convert this stochastic superdiagonal into an an alternating sequence of reals. "
      ]
    },
    {
      "cell_type": "code",
      "metadata": {
        "id": "QNGv_c8QSAxZ",
        "colab_type": "code",
        "colab": {
          "base_uri": "https://localhost:8080/",
          "height": 54
        },
        "outputId": "1460fcea-2940-4853-bb36-65a7f00c8136"
      },
      "source": [
        "Y = convertToAlternatingReals(X, forward, n)\n",
        "print(Y)"
      ],
      "execution_count": null,
      "outputs": [
        {
          "output_type": "stream",
          "text": [
            "[0.9164303224574469, 0.9941085904287739, 0.709983356869203, 0.9351584713777106, 0.5540709329812937, 0.7007383446394218, 0.339268723900239, 0.7497587971439854, 0.6694943147828405, 0.8761501057952732]\n"
          ],
          "name": "stdout"
        }
      ]
    },
    {
      "cell_type": "markdown",
      "metadata": {
        "id": "xf63u2xsTAfa",
        "colab_type": "text"
      },
      "source": [
        "We then convert the alternating sequence of reals into a permutation by sorting."
      ]
    },
    {
      "cell_type": "code",
      "metadata": {
        "id": "nM_NiAwETD3g",
        "colab_type": "code",
        "colab": {
          "base_uri": "https://localhost:8080/",
          "height": 34
        },
        "outputId": "5ad0707d-85dd-43c6-afeb-23318481f445"
      },
      "source": [
        "sigma = convertToPerm(Y, n)\n",
        "print(sigma)"
      ],
      "execution_count": null,
      "outputs": [
        {
          "output_type": "stream",
          "text": [
            "[8, 10, 5, 9, 2, 4, 1, 6, 3, 7]\n"
          ],
          "name": "stdout"
        }
      ]
    },
    {
      "cell_type": "markdown",
      "metadata": {
        "id": "LM9yWuR-TW7z",
        "colab_type": "text"
      },
      "source": [
        "We combine these three steps into one function to generate a uniform alternating permutation as below."
      ]
    },
    {
      "cell_type": "code",
      "metadata": {
        "id": "_fUDvwDBTc0_",
        "colab_type": "code",
        "colab": {
          "base_uri": "https://localhost:8080/",
          "height": 34
        },
        "outputId": "2ae5ea91-3517-40f7-d050-f619e62f1ec6"
      },
      "source": [
        "N = 10\n",
        "sigma = generateUniformPerm(N)\n",
        "print(sigma)"
      ],
      "execution_count": null,
      "outputs": [
        {
          "output_type": "stream",
          "text": [
            "[2, 6, 3, 9, 5, 10, 4, 8, 1, 7]\n"
          ],
          "name": "stdout"
        }
      ]
    },
    {
      "cell_type": "markdown",
      "metadata": {
        "id": "onCIP2u3TpN1",
        "colab_type": "text"
      },
      "source": [
        "Now that we have code to generate uniform alternating permutations, we show the code to convert from permutations to trees."
      ]
    },
    {
      "cell_type": "code",
      "metadata": {
        "id": "GSaCWgBoUAEV",
        "colab_type": "code",
        "colab": {}
      },
      "source": [
        "import copy\n",
        "\n",
        "# generates complement of a permutation defined in Donaghey\n",
        "def complement(perm):\n",
        "    n = len(perm)\n",
        "    sortedElements = sorted(copy.deepcopy(perm))\n",
        "    complement = [0] * n\n",
        "    for i in range(n):\n",
        "        j = sortedElements.index(perm[i])\n",
        "        complement[i] = sortedElements[n - 1 - j]\n",
        "    return complement\n",
        "\n",
        "# returns index of max and minimal elements of a permutation   \n",
        "def maximalElements(perm):\n",
        "    minVal = float(\"inf\")\n",
        "    maxVal = 0\n",
        "    minIndex = 0\n",
        "    maxIndex = 0\n",
        "    for i in range(len(perm)):\n",
        "        if perm[i] < minVal:\n",
        "            minVal = perm[i]\n",
        "            minIndex = i\n",
        "        if perm[i] > maxVal:\n",
        "            maxVal = perm[i]\n",
        "            maxIndex = i\n",
        "    return maxIndex, minIndex\n",
        "\n",
        "# converts regular permutation to its tree permutation form recursively\n",
        "def convertToTreePerm(perm):\n",
        "    if len(perm) <= 1:\n",
        "        return perm\n",
        "    maxIndex, minIndex = maximalElements(perm)\n",
        "    if minIndex < maxIndex:\n",
        "        perm = complement(perm)\n",
        "        minIndex = maxIndex\n",
        "    return convertToTreePerm(perm[0:minIndex]) + [perm[minIndex]] + convertToTreePerm(perm[minIndex + 1:])\n",
        "\n",
        "# returns index and value of minimal element in a permutation\n",
        "def minimalElement(perm):\n",
        "    minVal = float(\"inf\")\n",
        "    minIndex = 0\n",
        "    for i in range(len(perm)):\n",
        "        if perm[i] < minVal:\n",
        "            minVal = perm[i]\n",
        "            minIndex = i\n",
        "    return minIndex, minVal\n",
        "\n",
        "# returns index and value of maximal element in a permutation\n",
        "def maximalElement(perm):\n",
        "    maxVal = 0\n",
        "    maxIndex = 0\n",
        "    for i in range(len(perm)):\n",
        "        if perm[i] > maxVal:\n",
        "            maxVal = perm[i]\n",
        "            maxIndex = i\n",
        "    return maxIndex, maxVal\n",
        "\n",
        "# calculate the number of cherries in a regular permutation\n",
        "def calculateCherries(perm):\n",
        "    convertedPerm = convertToTreePerm(perm)\n",
        "    cherries = [0]\n",
        "    calculateCherriesHelper(convertedPerm, cherries)\n",
        "    return cherries[0]\n",
        "\n",
        "# helper function to calculate number of cherries in a permutation\n",
        "def calculateCherriesHelper(perm, cherries):\n",
        "    n = len(perm)\n",
        "    if n == 1:\n",
        "        cherries[0] += 1\n",
        "    minIndex, minVal = minimalElement(perm)\n",
        "    if minIndex != 0:\n",
        "        calculateCherriesHelper(perm[:minIndex], cherries)\n",
        "    if minIndex != n - 1:\n",
        "        calculateCherriesHelper(perm[minIndex + 1:], cherries)"
      ],
      "execution_count": null,
      "outputs": []
    },
    {
      "cell_type": "markdown",
      "metadata": {
        "id": "5XVNcCF6U4EO",
        "colab_type": "text"
      },
      "source": [
        "Most of the above functions are just helper functions and are not too useful so we only look at the convertToTreePerm and calculateCherries functions. We first get a permutation from the prior code."
      ]
    },
    {
      "cell_type": "code",
      "metadata": {
        "id": "LAnF2aCWVABV",
        "colab_type": "code",
        "colab": {}
      },
      "source": [
        "n = 10\n",
        "sigma = generateUniformPerm(n)"
      ],
      "execution_count": null,
      "outputs": []
    },
    {
      "cell_type": "markdown",
      "metadata": {
        "id": "Va7dpWl3VNXz",
        "colab_type": "text"
      },
      "source": [
        "The convertToTreePerm function performs the first part of the bijection presented in Donaghey's paper. It returns a modified permutation (using the bracketing and nestling process described), from which the final tree can be easily recovered. I call these modified permutations \"tree permutations\"."
      ]
    },
    {
      "cell_type": "code",
      "metadata": {
        "id": "f8O_3nD8V6A-",
        "colab_type": "code",
        "colab": {
          "base_uri": "https://localhost:8080/",
          "height": 34
        },
        "outputId": "d316f62b-1765-440f-d2f3-6d9938ec983f"
      },
      "source": [
        "sigma_prime = convertToTreePerm(sigma)\n",
        "print(sigma_prime)"
      ],
      "execution_count": null,
      "outputs": [
        {
          "output_type": "stream",
          "text": [
            "[10, 9, 4, 2, 6, 3, 1, 8, 5, 7]\n"
          ],
          "name": "stdout"
        }
      ]
    },
    {
      "cell_type": "code",
      "metadata": {
        "id": "Pz37poHOWriL",
        "colab_type": "code",
        "colab": {}
      },
      "source": [
        ""
      ],
      "execution_count": null,
      "outputs": []
    },
    {
      "cell_type": "markdown",
      "metadata": {
        "id": "QkhmIEN-WVPg",
        "colab_type": "text"
      },
      "source": [
        "We can also recover the number of cherries that the corresponding tree of a permutation has using the below function."
      ]
    },
    {
      "cell_type": "code",
      "metadata": {
        "id": "81bNJdODWkLi",
        "colab_type": "code",
        "colab": {
          "base_uri": "https://localhost:8080/",
          "height": 34
        },
        "outputId": "42cca27f-4018-4701-e77d-5d9c5b895b2c"
      },
      "source": [
        "print(calculateCherries(sigma))"
      ],
      "execution_count": null,
      "outputs": [
        {
          "output_type": "stream",
          "text": [
            "3\n"
          ],
          "name": "stdout"
        }
      ]
    },
    {
      "cell_type": "markdown",
      "metadata": {
        "id": "FITaiuC8aRrp",
        "colab_type": "text"
      },
      "source": [
        "This is the code we will use to generate random ranked unlabeled trees and print out their ordered matching representations."
      ]
    },
    {
      "cell_type": "code",
      "metadata": {
        "id": "kcsrCWe4aPV5",
        "colab_type": "code",
        "colab": {}
      },
      "source": [
        "# generate uniformly random tree perm in order easiest to print\n",
        "def generateUniformTreePerm(n):\n",
        "    return complement(convertToTreePerm(generateUniformPerm(n)))\n",
        "\n",
        "# helper sorting function\n",
        "def mySort(tuple):\n",
        "    return tuple[2]\n",
        "\n",
        "# tree class to help print out\n",
        "class Tree(object):\n",
        "    def __init__(self, data):\n",
        "        self.data = data\n",
        "        self.right = None\n",
        "        self.left = None\n",
        "\n",
        "    def getRight(self):\n",
        "        return self.right\n",
        "\n",
        "    def getLeft(self):\n",
        "        return self.left\n",
        "\n",
        "    def setRight(self, rightTree):\n",
        "        self.right = rightTree\n",
        "\n",
        "    def setLeft(self, leftTree):\n",
        "        self.left = leftTree\n",
        "\n",
        "    def calculateCherriesHelper(self, cherries):\n",
        "        leftEmpty = self.left is None\n",
        "        rightEmpty = self.right is None\n",
        "        if leftEmpty and rightEmpty:\n",
        "            cherries[0] += 1\n",
        "        if not leftEmpty:\n",
        "            self.left.calculateCherriesHelper(cherries)\n",
        "        if not rightEmpty:\n",
        "            self.right.calculateCherriesHelper(cherries)\n",
        "\n",
        "    def calculateCherries(self):\n",
        "        cherries = [0]\n",
        "        self.calculateCherriesHelper(cherries)\n",
        "        return cherries[0]\n",
        "    \n",
        "    # recursively traverses tree   \n",
        "    def traverse(self, representation):\n",
        "        info = [0,0]\n",
        "        if self.left is not None:\n",
        "            info[0] = self.left.data\n",
        "            self.left.traverse(representation)\n",
        "        if self.right is not None:\n",
        "            info[1] = self.right.data\n",
        "            self.right.traverse(representation)\n",
        "        info = sorted(info)\n",
        "        info.append(self.data)\n",
        "        info = tuple(info)\n",
        "        representation.append(info)\n",
        "\n",
        "    def getTree(self):\n",
        "        representation = []\n",
        "        self.traverse(representation)\n",
        "        representation.sort(key = mySort)\n",
        "        return representation\n",
        "        \n",
        "    def __str__(self):\n",
        "        representation = []\n",
        "        self.traverse(representation)\n",
        "        representation.sort(key = mySort)\n",
        "        treeAsString = \"\"\n",
        "        for i in range(len(representation)):\n",
        "            treeAsString += str((representation[i][0], representation[i][1])) + \"^{\" + str(representation[i][2]) + \"}\" + \"\\n\"\n",
        "        return treeAsString\n",
        "\n",
        "# build a tree from a proper tree permutation, you can print right and left subtrees as well\n",
        "def buildTree(treePerm):\n",
        "    n = len(treePerm)\n",
        "    if n == 1:\n",
        "        return Tree(treePerm[0])\n",
        "    maxIndex, maxVal = maximalElement(treePerm)\n",
        "    newTree = Tree(maxVal)\n",
        "    if maxIndex != 0:\n",
        "        newTree.setRight(buildTree(treePerm[:maxIndex]))\n",
        "    if maxIndex != n - 1:\n",
        "        newTree.setLeft(buildTree(treePerm[maxIndex + 1:]))\n",
        "    return newTree"
      ],
      "execution_count": null,
      "outputs": []
    },
    {
      "cell_type": "markdown",
      "metadata": {
        "id": "VKKeBvvaadKJ",
        "colab_type": "text"
      },
      "source": [
        "This funtion combines the alternating permutation and tree conversion functions we looked at earlier to generate a uniformly random tree permutation. As you can see in the code, we use the complement function before returning the final result because we build the tree top down (we want to have n at the top rather than 1)."
      ]
    },
    {
      "cell_type": "code",
      "metadata": {
        "id": "qqwhdkR0alzp",
        "colab_type": "code",
        "colab": {
          "base_uri": "https://localhost:8080/",
          "height": 34
        },
        "outputId": "95388401-6a4c-4cc1-8ff4-373023f0415c"
      },
      "source": [
        "n = 10\n",
        "treePerm = generateUniformTreePerm(n)\n",
        "print(treePerm)"
      ],
      "execution_count": null,
      "outputs": [
        {
          "output_type": "stream",
          "text": [
            "[1, 2, 4, 3, 5, 6, 10, 7, 8, 9]\n"
          ],
          "name": "stdout"
        }
      ]
    },
    {
      "cell_type": "markdown",
      "metadata": {
        "id": "lNzH497xbDUn",
        "colab_type": "text"
      },
      "source": [
        "We can then use the buildTree function to convert the above tree perm into a Tree from the Tree class above. The tree class has the print trait implemented so the trees can be printed out in the ordered matching representation. This method is very hacky and I imagine there is a better way to do it."
      ]
    },
    {
      "cell_type": "code",
      "metadata": {
        "id": "4OvNA2ZKbr-_",
        "colab_type": "code",
        "colab": {
          "base_uri": "https://localhost:8080/",
          "height": 204
        },
        "outputId": "b5ca6bd3-d624-4ab2-85c2-9872198b306d"
      },
      "source": [
        "tree = buildTree(treePerm)\n",
        "print(tree)"
      ],
      "execution_count": null,
      "outputs": [
        {
          "output_type": "stream",
          "text": [
            "(0, 0)^{1}\n",
            "(0, 1)^{2}\n",
            "(0, 0)^{3}\n",
            "(2, 3)^{4}\n",
            "(0, 4)^{5}\n",
            "(0, 5)^{6}\n",
            "(0, 0)^{7}\n",
            "(0, 7)^{8}\n",
            "(0, 8)^{9}\n",
            "(6, 9)^{10}\n",
            "\n"
          ],
          "name": "stdout"
        }
      ]
    },
    {
      "cell_type": "markdown",
      "metadata": {
        "id": "Zn7ENCfUcQiy",
        "colab_type": "text"
      },
      "source": [
        "We can also get the number of cherries in the tree using the calculateCherries method."
      ]
    },
    {
      "cell_type": "code",
      "metadata": {
        "id": "7vHbk0XkcZC_",
        "colab_type": "code",
        "colab": {
          "base_uri": "https://localhost:8080/",
          "height": 34
        },
        "outputId": "172af09d-e7f0-4032-cc3b-d41836619cc3"
      },
      "source": [
        "print(tree.calculateCherries())"
      ],
      "execution_count": null,
      "outputs": [
        {
          "output_type": "stream",
          "text": [
            "3\n"
          ],
          "name": "stdout"
        }
      ]
    },
    {
      "cell_type": "markdown",
      "metadata": {
        "id": "cowuLTpedwkr",
        "colab_type": "text"
      },
      "source": [
        "Now we have code to generate alternating permutations and convert them to trees and print them, so we investigatae some markov chains on alternating permutations. The first being the alternating permutations random transpositions chain, where at each stage, two (non-adjacent) elements are flipped (if allowed)."
      ]
    },
    {
      "cell_type": "code",
      "metadata": {
        "id": "WC-ki09OeBmv",
        "colab_type": "code",
        "colab": {}
      },
      "source": [
        "import copy\n",
        "import random\n",
        "\n",
        "# helper function for generating two numbers that differ by more than one\n",
        "def generateIJ(n):\n",
        "    while True:\n",
        "            [i, j] = sorted(random.sample(range(n), 2))\n",
        "            if abs(i - j) > 1:\n",
        "                break\n",
        "    return i, j\n",
        "\n",
        "# swaps two elements if tajima allows for it\n",
        "def updateIJ(currentPerm, i, j, tajima):\n",
        "    if tajima:\n",
        "        otherPerm = copy.deepcopy(currentPerm)\n",
        "        sigma_i = currentPerm[j]\n",
        "        sigma_j = currentPerm[i]\n",
        "        otherPerm[i] = currentPerm[j]\n",
        "        otherPerm[j] = currentPerm[i]\n",
        "        p = random.random()\n",
        "        if p < min(1, 2 ** (calculateCherries(currentPerm) - calculateCherries(otherPerm))):\n",
        "            currentPerm[i] = sigma_i\n",
        "            currentPerm[j] = sigma_j\n",
        "    else:\n",
        "        temp = currentPerm[i]\n",
        "        currentPerm[i] = currentPerm[j]\n",
        "        currentPerm[j] = temp\n",
        "\n",
        "# helper function, whether swapping of two elements is allowed\n",
        "def canUpdate(currentPerm, n, i, j):\n",
        "    isFirst = (i == 0)\n",
        "    isLast = (j == n - 1)\n",
        "    sigma_i = currentPerm[i]\n",
        "    sigma_j = currentPerm[j]\n",
        "    sigma_ip1 = currentPerm[i + 1]\n",
        "    sigma_jm1 = currentPerm[j - 1]\n",
        "    firstDecreasing = (sigma_i > sigma_ip1)\n",
        "    secondDecreasing = (sigma_jm1 < sigma_j) \n",
        "    if not isFirst:\n",
        "        if (currentPerm[i - 1] < sigma_j) != firstDecreasing:\n",
        "            return False\n",
        "    if not isLast:\n",
        "        if (sigma_i > currentPerm[j + 1]) != secondDecreasing:\n",
        "            return False\n",
        "    if (sigma_j > sigma_ip1) != firstDecreasing:\n",
        "        return False\n",
        "    if (sigma_jm1 < sigma_i) != secondDecreasing:\n",
        "        return False\n",
        "    return True\n",
        "\n",
        "# implements MCMC markovian update \n",
        "def updateAP(currentPerm, n, tajima):\n",
        "    i, j = generateIJ(n) \n",
        "    if canUpdate(currentPerm, n, i, j):\n",
        "        updateIJ(currentPerm, i, j, tajima)\n",
        "\n",
        "def difference(first, second, n):\n",
        "    total = 0\n",
        "    for i in range(n):\n",
        "        if first[i] != second[i]:\n",
        "            total += 1\n",
        "    return total\n",
        "    \n",
        "# alternating permutation MCMC with element swapping\n",
        "# tajima for whether want to metropolize the chain to converge to tajima\n",
        "# printTrees for whether want to print trees as we go\n",
        "def alternatingPermMCMC(startingPerm, samples, tajima, printTrees, frequencies):\n",
        "    n = len(startingPerm)\n",
        "    currentPerm = startingPerm\n",
        "    sampDic = {}\n",
        "    total = 0\n",
        "    currentRep = [(0,0,0)] * n\n",
        "    for _ in range(samples):\n",
        "        c = calculateCherries(currentPerm)\n",
        "        tree = buildTree(complement(convertToTreePerm(currentPerm)))\n",
        "        newRep = tree.getTree()\n",
        "        total += difference(newRep, currentRep, n)\n",
        "        currentRep = newRep\n",
        "        if printTrees:\n",
        "            print(tree)\n",
        "        if frequencies:\n",
        "          if tuple(currentPerm) in sampDic:\n",
        "            sampDic[tuple(currentPerm)] += 1\n",
        "          else:\n",
        "            sampDic[tuple(currentPerm)] = 1\n",
        "        updateAP(currentPerm, n, tajima)\n",
        "    print(\"The average number of pairs that were changed is:\", (total - 1)/samples)\n",
        "    if frequencies:\n",
        "      for entry in sampDic:\n",
        "        print(entry, \"has frequency\", sampDic[entry] * 100 / samples, \"%\")\n",
        "\n"
      ],
      "execution_count": null,
      "outputs": []
    },
    {
      "cell_type": "markdown",
      "metadata": {
        "id": "zX4poEB4fjxN",
        "colab_type": "text"
      },
      "source": [
        "We first look at a single step for this chain. The chain normally has equilibrium distribution as uniform, but I have implemented a feature to metropolize the chain to converge to the tajima. So throughout the code, if you want the updates to be the tajima updates, set the tajima flag to true. The updateAP function performs the update."
      ]
    },
    {
      "cell_type": "code",
      "metadata": {
        "id": "77VB_XUJgNKc",
        "colab_type": "code",
        "colab": {
          "base_uri": "https://localhost:8080/",
          "height": 391
        },
        "outputId": "3ca006e6-a533-4159-f3b8-2213dd2f092d"
      },
      "source": [
        "N = 10\n",
        "tajima = False\n",
        "\n",
        "X = generateUniformPerm(N)\n",
        "print(buildTree(complement(convertToTreePerm(X))))\n",
        "\n",
        "updateAP(X, N, tajima)\n",
        "\n",
        "print(buildTree(complement(convertToTreePerm(X))))"
      ],
      "execution_count": null,
      "outputs": [
        {
          "output_type": "stream",
          "text": [
            "(0, 0)^{1}\n",
            "(0, 0)^{2}\n",
            "(0, 0)^{3}\n",
            "(0, 2)^{4}\n",
            "(0, 3)^{5}\n",
            "(0, 0)^{6}\n",
            "(4, 5)^{7}\n",
            "(1, 7)^{8}\n",
            "(6, 8)^{9}\n",
            "(0, 9)^{10}\n",
            "\n",
            "(0, 0)^{1}\n",
            "(0, 0)^{2}\n",
            "(0, 0)^{3}\n",
            "(0, 2)^{4}\n",
            "(1, 4)^{5}\n",
            "(0, 0)^{6}\n",
            "(3, 5)^{7}\n",
            "(0, 7)^{8}\n",
            "(6, 8)^{9}\n",
            "(0, 9)^{10}\n",
            "\n"
          ],
          "name": "stdout"
        }
      ]
    },
    {
      "cell_type": "markdown",
      "metadata": {
        "id": "4jSf1pMIhnJ0",
        "colab_type": "text"
      },
      "source": [
        "You can see above that many of the pairs can be changed in just a single update. We can now run this chain using the below function. Set the tajima flag if you want the chain to converge to the tajima distribution and the printTrees function if you want the trees to be printed out as the chain is running (if you do this, set the samples to be lower). Set the frequencies flag if to see the freuqency of each permutation. "
      ]
    },
    {
      "cell_type": "code",
      "metadata": {
        "id": "EjIVaCY6h57q",
        "colab_type": "code",
        "colab": {}
      },
      "source": [
        "N = 10\n",
        "samples = 10\n",
        "tajima = False\n",
        "printTrees = True\n",
        "frequencies = False\n",
        "\n",
        "alternatingPermMCMC(generateUniformPerm(N), samples, tajima, printTrees, frequencies)"
      ],
      "execution_count": null,
      "outputs": []
    },
    {
      "cell_type": "markdown",
      "metadata": {
        "id": "Xsb01DHPmbRC",
        "colab_type": "text"
      },
      "source": [
        "We often need to calculate the Euler-Zigzag numbers. Here is the code to do so."
      ]
    },
    {
      "cell_type": "code",
      "metadata": {
        "id": "usZgTEbcmjjW",
        "colab_type": "code",
        "colab": {}
      },
      "source": [
        "# returns list with first n Euler-Zigzag Numbers (E_0 - E_n)\n",
        "\n",
        "def comb(n, k):\n",
        "  return int(math.factorial(n) / (math.factorial(k) * math.factorial(n - k)))\n",
        "def calculateEulerZigzagNumbers(n):\n",
        "    E = [0] * (n + 1)\n",
        "    E[0] = 1\n",
        "    E[1] = 1\n",
        "    for i in range(2, n + 1):\n",
        "        calculateEulerZigzagNumber(i, E)\n",
        "    return E\n",
        "\n",
        "def calculateNthEulerZigzagNumber(n):\n",
        "    return calculateEulerZigzagNumbers(n)[n]\n",
        "\n",
        "# helper function to calculate a single euler-zigzag number\n",
        "def calculateEulerZigzagNumber(i, E):\n",
        "    E_i= 0\n",
        "    for k in range(1, i, 2):\n",
        "        combin = comb(i - 1, k)\n",
        "        E_i += combin * E[k] * E[i - 1 - k]\n",
        "    E[i] = E_i"
      ],
      "execution_count": null,
      "outputs": []
    },
    {
      "cell_type": "markdown",
      "metadata": {
        "id": "Co9O1HTsn9lZ",
        "colab_type": "text"
      },
      "source": [
        "To calculate the nth Euler-Zigzag number we need all of the lower ones."
      ]
    },
    {
      "cell_type": "code",
      "metadata": {
        "id": "eb_VNWtwmlGx",
        "colab_type": "code",
        "colab": {
          "base_uri": "https://localhost:8080/",
          "height": 34
        },
        "outputId": "ed03bab5-119f-4d93-e4ec-637d386ab88a"
      },
      "source": [
        "n = 20\n",
        "E_n = int(calculateNthEulerZigzagNumber(n))\n",
        "print(E_n)"
      ],
      "execution_count": null,
      "outputs": [
        {
          "output_type": "stream",
          "text": [
            "370371188237525\n"
          ],
          "name": "stdout"
        }
      ]
    },
    {
      "cell_type": "markdown",
      "metadata": {
        "id": "Y5oxpPZeoIVE",
        "colab_type": "text"
      },
      "source": [
        "In Diaconis's paper on stochastic tridiagonal matrices, they present an algorithm for generating an exactly uniform alternating permutation recursively. I present the implementation of this algorithm below. Naively, it has O(n^3) time complexity, due to the complexity of calculating the first n Euler-Zigzag numbers but using the asymptotic expansion, we can get nearly identical results, allowing this to be a faster algorithm, although it is still slow because of calculating the factorials."
      ]
    },
    {
      "cell_type": "code",
      "metadata": {
        "id": "1RgvHLsrq3S2",
        "colab_type": "code",
        "colab": {}
      },
      "source": [
        "import math\n",
        "import numpy as np\n",
        "import random\n",
        "\n",
        "rng = np.random.default_rng()\n",
        "\n",
        "def recursiveExactSampling(n):\n",
        "    sigma = [0] * n\n",
        "    numbers = [i for i in range(1, n + 1)]\n",
        "    return samplingHelper(numbers, True)\n",
        "\n",
        "def samplingHelper(numbers, forward):\n",
        "    n = len(numbers)\n",
        "    if n == 0:\n",
        "        return []\n",
        "    if n == 1:\n",
        "        return [numbers[0]]\n",
        "    k = getK(n, forward)\n",
        "    if forward:\n",
        "        lowerNumbers = sorted(random.sample(numbers[0:n-1], k - 1)) if k > 1 else []\n",
        "        upperNumbers = sorted(list(set(numbers[0:n - 1]).difference(set(lowerNumbers))))\n",
        "        return samplingHelper(lowerNumbers, forward) + [numbers[n-1]] + samplingHelper(upperNumbers, not forward)\n",
        "    else:\n",
        "        lowerNumbers = sorted(random.sample(numbers[1:], k - 1)) if k > 1 else []\n",
        "        upperNumbers = sorted(list(set(numbers[1:]).difference(set(lowerNumbers))))\n",
        "        return samplingHelper(lowerNumbers, forward) + [numbers[0]] + samplingHelper(upperNumbers, not forward)\n",
        "        \n",
        "\n",
        "def getK(n, forward):\n",
        "    E = calculateEulerZigzagNumbers(n)\n",
        "    values = list(range(1, n + 1, 2))\n",
        "    p = [comb(n - 1, k - 1) * E[k - 1] * E[n - k] / E[n] for k in values]\n",
        "    k = values[list(rng.multinomial(1, p)).index(1)]\n",
        "    return k"
      ],
      "execution_count": null,
      "outputs": []
    },
    {
      "cell_type": "markdown",
      "metadata": {
        "id": "4aT2IoMLsrGo",
        "colab_type": "text"
      },
      "source": [
        "Use the recursive exact sampling function to recursively sample a uniform alternating permutation."
      ]
    },
    {
      "cell_type": "code",
      "metadata": {
        "id": "A7Ka1ZFjsNb6",
        "colab_type": "code",
        "colab": {
          "base_uri": "https://localhost:8080/",
          "height": 34
        },
        "outputId": "5481a301-8177-473a-b096-52f8918590ad"
      },
      "source": [
        "n = 10\n",
        "print(recursiveExactSampling(n))"
      ],
      "execution_count": null,
      "outputs": [
        {
          "output_type": "stream",
          "text": [
            "[6, 4, 9, 1, 5, 3, 8, 2, 10, 7]\n"
          ],
          "name": "stdout"
        }
      ]
    }
  ]
}